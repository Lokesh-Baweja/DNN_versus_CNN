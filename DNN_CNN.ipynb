{
 "cells": [
  {
   "cell_type": "code",
   "execution_count": 3,
   "metadata": {},
   "outputs": [],
   "source": [
    "import tensorflow as tf\n",
    "from tensorflow import keras\n",
    "from tensorflow.keras import datasets, layers, models\n",
    "import matplotlib.pyplot as plt\n",
    "import numpy as np"
   ]
  },
  {
   "cell_type": "code",
   "execution_count": 4,
   "metadata": {},
   "outputs": [],
   "source": [
    "(x_train, y_train), (x_test, y_test) = datasets.cifar10.load_data()"
   ]
  },
  {
   "cell_type": "code",
   "execution_count": 5,
   "metadata": {},
   "outputs": [
    {
     "data": {
      "text/plain": [
       "(50000, 32, 32, 3)"
      ]
     },
     "execution_count": 5,
     "metadata": {},
     "output_type": "execute_result"
    }
   ],
   "source": [
    "x_train.shape\n"
   ]
  },
  {
   "cell_type": "code",
   "execution_count": 6,
   "metadata": {},
   "outputs": [
    {
     "data": {
      "text/plain": [
       "array([[6],\n",
       "       [9],\n",
       "       [9],\n",
       "       [4],\n",
       "       [1]], dtype=uint8)"
      ]
     },
     "execution_count": 6,
     "metadata": {},
     "output_type": "execute_result"
    }
   ],
   "source": [
    "y_train[:5]"
   ]
  },
  {
   "cell_type": "code",
   "execution_count": 7,
   "metadata": {},
   "outputs": [],
   "source": [
    "#Converting y_train into 1D array also known as flatening\n",
    "y_train = y_train.reshape(-1,)"
   ]
  },
  {
   "cell_type": "code",
   "execution_count": 8,
   "metadata": {},
   "outputs": [
    {
     "data": {
      "text/plain": [
       "array([6, 9, 9, 4, 1], dtype=uint8)"
      ]
     },
     "execution_count": 8,
     "metadata": {},
     "output_type": "execute_result"
    }
   ],
   "source": [
    "y_train[:5]"
   ]
  },
  {
   "cell_type": "code",
   "execution_count": 9,
   "metadata": {},
   "outputs": [
    {
     "data": {
      "image/png": "[encoded data removed]",
      "text/plain": [
       "<Figure size 1080x144 with 1 Axes>"
      ]
     },
     "metadata": {
      "needs_background": "light"
     },
     "output_type": "display_data"
    }
   ],
   "source": [
    "#Creating a function to display a image from the samples and its label\n",
    "image = [\"airplane\",\"automobile\",\"bird\",\"cat\",\"deer\",\"dog\",\"frog\",\"horse\",\"ship\",\"truck\"]\n",
    "\n",
    "def plot_myimage(X, y, index):\n",
    "    #image size\n",
    "    plt.figure(figsize=(15,2))\n",
    "    plt.imshow(X[index])\n",
    "    plt.xlabel(image[y[index]])\n",
    "    \n",
    "\n",
    "    \n",
    "plot_myimage(x_train, y_train, 0)"
   ]
  },
  {
   "cell_type": "code",
   "execution_count": 10,
   "metadata": {},
   "outputs": [
    {
     "name": "stdout",
     "output_type": "stream",
     "text": [
      "WARNING:tensorflow:From /home/lokesh/anaconda3/lib/python3.7/site-packages/tensorflow/python/ops/resource_variable_ops.py:435: colocate_with (from tensorflow.python.framework.ops) is deprecated and will be removed in a future version.\n",
      "Instructions for updating:\n",
      "Colocations handled automatically by placer.\n",
      "Epoch 1/5\n",
      "50000/50000 [==============================] - 192s 4ms/sample - loss: 1.8743 - acc: 0.3342\n",
      "Epoch 2/5\n",
      "50000/50000 [==============================] - 190s 4ms/sample - loss: 1.6492 - acc: 0.4184\n",
      "Epoch 3/5\n",
      "50000/50000 [==============================] - 212s 4ms/sample - loss: 1.5627 - acc: 0.4472\n",
      "Epoch 4/5\n",
      "50000/50000 [==============================] - 196s 4ms/sample - loss: 1.4968 - acc: 0.4718\n",
      "Epoch 5/5\n",
      "50000/50000 [==============================] - 189s 4ms/sample - loss: 1.4476 - acc: 0.4893\n"
     ]
    },
    {
     "data": {
      "text/plain": [
       "<tensorflow.python.keras.callbacks.History at 0x7f2a837e6c50>"
      ]
     },
     "execution_count": 10,
     "metadata": {},
     "output_type": "execute_result"
    }
   ],
   "source": [
    "#Here we are performing a normalization of data to set the numeric value between 0 and 1\n",
    "x_train = x_train/255.0\n",
    "x_test = x_test/255.0\n",
    "\n",
    "#Training using artificial neural network\n",
    "\n",
    "NN = models.Sequential([layers.Flatten(input_shape=(32,32,3)),\n",
    "                        layers.Dense(3000, activation='relu'),\n",
    "                        layers.Dense(3000, activation='relu'),\n",
    "                        layers.Dense(100, activation='softmax')])\n",
    "NN.compile(optimizer='SGD',\n",
    "              loss='sparse_categorical_crossentropy',\n",
    "              metrics=['accuracy'])\n",
    "\n",
    "NN.fit(x_train, y_train, epochs=5)"
   ]
  },
  {
   "cell_type": "code",
   "execution_count": 11,
   "metadata": {},
   "outputs": [
    {
     "name": "stdout",
     "output_type": "stream",
     "text": [
      "[[3.5053760e-02 1.7333658e-02 1.4056817e-01 ... 1.6091491e-05\n",
      "  1.3493499e-05 1.6577435e-05]\n",
      " [5.3335249e-02 3.2210749e-02 2.3346208e-03 ... 5.0943947e-07\n",
      "  2.5141568e-07 4.1812297e-07]\n",
      " [2.7222756e-01 2.2604156e-02 5.0915405e-03 ... 2.3677703e-06\n",
      "  1.0860424e-06 2.0402465e-06]\n",
      " ...\n",
      " [3.0477562e-03 1.8042125e-03 1.6578332e-01 ... 7.1022419e-06\n",
      "  9.3868584e-06 6.7442284e-06]\n",
      " [6.8917237e-02 1.8394753e-02 1.3260527e-01 ... 4.7882104e-06\n",
      "  4.0718714e-06 4.6728069e-06]\n",
      " [7.6337613e-02 1.4516846e-02 1.1252664e-01 ... 1.0231874e-04\n",
      "  9.4985378e-05 7.3527292e-05]]\n",
      "Classification \n",
      "               precision    recall  f1-score   support\n",
      "\n",
      "           0       0.46      0.60      0.52      1000\n",
      "           1       0.71      0.29      0.42      1000\n",
      "           2       0.42      0.24      0.31      1000\n",
      "           3       0.39      0.25      0.31      1000\n",
      "           4       0.32      0.60      0.42      1000\n",
      "           5       0.45      0.34      0.39      1000\n",
      "           6       0.56      0.46      0.50      1000\n",
      "           7       0.72      0.35      0.47      1000\n",
      "           8       0.52      0.69      0.59      1000\n",
      "           9       0.41      0.73      0.53      1000\n",
      "\n",
      "   micro avg       0.46      0.46      0.46     10000\n",
      "   macro avg       0.50      0.46      0.45     10000\n",
      "weighted avg       0.50      0.46      0.45     10000\n",
      "\n"
     ]
    }
   ],
   "source": [
    "#making function for classification report\n",
    "import sklearn \n",
    "from sklearn.metrics import confusion_matrix, classification_report\n",
    "\n",
    "y_pred=NN.predict(x_test)\n",
    "print (y_pred)\n",
    "y_pred_class = [np.argmax(i) for i in y_pred]\n",
    "\n",
    "def print_report():    \n",
    "    print (\"Classification \\n\", classification_report(y_test, y_pred_class))\n",
    "\n",
    "print_report()"
   ]
  },
  {
   "cell_type": "code",
   "execution_count": 12,
   "metadata": {},
   "outputs": [
    {
     "name": "stdout",
     "output_type": "stream",
     "text": [
      "Epoch 1/10\n",
      "50000/50000 [==============================] - 43s 869us/sample - loss: 1.4875 - acc: 0.4640\n",
      "Epoch 2/10\n",
      "50000/50000 [==============================] - 44s 874us/sample - loss: 1.1375 - acc: 0.5994\n",
      "Epoch 3/10\n",
      "50000/50000 [==============================] - 52s 1ms/sample - loss: 1.0052 - acc: 0.6480\n",
      "Epoch 4/10\n",
      "50000/50000 [==============================] - 44s 879us/sample - loss: 0.9215 - acc: 0.6797\n",
      "Epoch 5/10\n",
      "50000/50000 [==============================] - 44s 879us/sample - loss: 0.8534 - acc: 0.7022\n",
      "Epoch 6/10\n",
      "50000/50000 [==============================] - 43s 869us/sample - loss: 0.8046 - acc: 0.7201\n",
      "Epoch 7/10\n",
      "50000/50000 [==============================] - 43s 867us/sample - loss: 0.7509 - acc: 0.7373\n",
      "Epoch 8/10\n",
      "50000/50000 [==============================] - 44s 875us/sample - loss: 0.7015 - acc: 0.7535\n",
      "Epoch 9/10\n",
      "50000/50000 [==============================] - 44s 873us/sample - loss: 0.6623 - acc: 0.7684\n",
      "Epoch 10/10\n",
      "50000/50000 [==============================] - 44s 872us/sample - loss: 0.6234 - acc: 0.7825\n"
     ]
    },
    {
     "data": {
      "text/plain": [
       "<tensorflow.python.keras.callbacks.History at 0x7f2a775695c0>"
      ]
     },
     "execution_count": 12,
     "metadata": {},
     "output_type": "execute_result"
    }
   ],
   "source": [
    "cnn = models.Sequential([\n",
    "    layers.Conv2D(filters=32, kernel_size=(3, 3), activation='relu', input_shape=(32, 32, 3)),\n",
    "    layers.MaxPooling2D((2, 2)),\n",
    "    \n",
    "    layers.Conv2D(filters=64, kernel_size=(3, 3), activation='relu'),\n",
    "    layers.MaxPooling2D((2, 2)),\n",
    "    \n",
    "    layers.Flatten(),\n",
    "    layers.Dense(64, activation='relu'),\n",
    "    layers.Dense(10, activation='softmax')\n",
    "])\n",
    "\n",
    "cnn.compile(optimizer='adam',\n",
    "              loss='sparse_categorical_crossentropy',\n",
    "              metrics=['accuracy'])\n",
    "cnn.fit(x_train, y_train, epochs=10)"
   ]
  },
  {
   "cell_type": "code",
   "execution_count": 13,
   "metadata": {},
   "outputs": [
    {
     "name": "stdout",
     "output_type": "stream",
     "text": [
      "[[3.0797811e-03 3.4254495e-04 1.0670285e-02 ... 4.3009430e-05\n",
      "  2.1921299e-02 1.6063743e-03]\n",
      " [9.3563009e-05 1.2597144e-02 1.4056384e-07 ... 5.7214343e-08\n",
      "  9.8721075e-01 9.5928597e-05]\n",
      " [1.4833786e-01 2.0099995e-01 6.1013486e-04 ... 2.4403207e-02\n",
      "  5.2672762e-01 7.1137503e-02]\n",
      " ...\n",
      " [6.0993788e-04 8.9177565e-06 6.9261879e-02 ... 2.8408617e-01\n",
      "  2.4551549e-04 5.5908284e-04]\n",
      " [4.7247522e-02 3.2697327e-02 5.7853414e-03 ... 1.0674747e-03\n",
      "  4.3348798e-05 9.2250668e-03]\n",
      " [1.2665899e-05 1.2279530e-06 1.5826027e-04 ... 9.9783057e-01\n",
      "  5.0734280e-07 5.0245313e-07]]\n",
      "Classification \n",
      "               precision    recall  f1-score   support\n",
      "\n",
      "           0       0.75      0.73      0.74      1000\n",
      "           1       0.86      0.74      0.80      1000\n",
      "           2       0.65      0.54      0.59      1000\n",
      "           3       0.57      0.47      0.51      1000\n",
      "           4       0.59      0.72      0.65      1000\n",
      "           5       0.65      0.53      0.59      1000\n",
      "           6       0.72      0.81      0.76      1000\n",
      "           7       0.74      0.74      0.74      1000\n",
      "           8       0.77      0.83      0.80      1000\n",
      "           9       0.68      0.87      0.76      1000\n",
      "\n",
      "   micro avg       0.70      0.70      0.70     10000\n",
      "   macro avg       0.70      0.70      0.69     10000\n",
      "weighted avg       0.70      0.70      0.69     10000\n",
      "\n"
     ]
    }
   ],
   "source": [
    "y_pred1=cnn.predict(x_test)\n",
    "print (y_pred1)\n",
    "y_pred_class1 = [np.argmax(i) for i in y_pred1]\n",
    "\n",
    "def print_report():    \n",
    "    print (\"Classification \\n\", classification_report(y_test, y_pred_class1))\n",
    "\n",
    "print_report()"
   ]
  },
  {
   "cell_type": "code",
   "execution_count": null,
   "metadata": {},
   "outputs": [],
   "source": []
  }
 ],
 "metadata": {
  "kernelspec": {
   "display_name": "Python 3",
   "language": "python",
   "name": "python3"
  },
  "language_info": {
   "codemirror_mode": {
    "name": "ipython",
    "version": 3
   },
   "file_extension": ".py",
   "mimetype": "text/x-python",
   "name": "python",
   "nbconvert_exporter": "python",
   "pygments_lexer": "ipython3",
   "version": "3.7.3"
  }
 },
 "nbformat": 4,
 "nbformat_minor": 2
}
